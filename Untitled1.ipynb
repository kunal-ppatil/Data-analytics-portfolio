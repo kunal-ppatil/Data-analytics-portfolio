{
 "cells": [
  {
   "cell_type": "code",
   "execution_count": 1,
   "id": "724acf21-e19b-49bd-b48a-659ae402c9c0",
   "metadata": {},
   "outputs": [],
   "source": [
    "import pandas as pd"
   ]
  },
  {
   "cell_type": "code",
   "execution_count": 2,
   "id": "3618ccbe-e72a-4565-8012-8bada6a16928",
   "metadata": {},
   "outputs": [
    {
     "ename": "SyntaxError",
     "evalue": "invalid syntax (2068746931.py, line 1)",
     "output_type": "error",
     "traceback": [
      "\u001b[1;36m  Cell \u001b[1;32mIn[2], line 1\u001b[1;36m\u001b[0m\n\u001b[1;33m    df=pd.pandas as pd('debugger warning will proceed and miss breakpoint it seems kernel modules forzen are being ')\u001b[0m\n\u001b[1;37m                 ^\u001b[0m\n\u001b[1;31mSyntaxError\u001b[0m\u001b[1;31m:\u001b[0m invalid syntax\n"
     ]
    }
   ],
   "source": [
    "df=pd.pandas as pd('debugger warning will proceed and miss breakpoint it seems kernel modules forzen are being ')"
   ]
  },
  {
   "cell_type": "code",
   "execution_count": 1,
   "id": "d494063d-73fb-4179-ae0a-0c19df39ba39",
   "metadata": {},
   "outputs": [
    {
     "ename": "SyntaxError",
     "evalue": "invalid syntax (635441708.py, line 1)",
     "output_type": "error",
     "traceback": [
      "\u001b[1;36m  Cell \u001b[1;32mIn[1], line 1\u001b[1;36m\u001b[0m\n\u001b[1;33m    roaming could not determine npm prefect fied nodesjs, javascript, typescript\u001b[0m\n\u001b[1;37m            ^\u001b[0m\n\u001b[1;31mSyntaxError\u001b[0m\u001b[1;31m:\u001b[0m invalid syntax\n"
     ]
    }
   ],
   "source": [
    "roaming could not determine npm prefect fied nodesjs, javascript, typescript\n",
    "make the the debugger miss breakpoint "
   ]
  },
  {
   "cell_type": "code",
   "execution_count": 2,
   "id": "1df20ed4-aef7-4d9f-89de-128e5a39a298",
   "metadata": {},
   "outputs": [
    {
     "ename": "SyntaxError",
     "evalue": "invalid syntax (3285432191.py, line 1)",
     "output_type": "error",
     "traceback": [
      "\u001b[1;36m  Cell \u001b[1;32mIn[2], line 1\u001b[1;36m\u001b[0m\n\u001b[1;33m    note connecting to kernel e1 it seems that frozen modules are being used which may please pass xfrozen modules are being used which kmay debugguer miss breakpoint set pydev disable files validation off disable this validatino connecting\u001b[0m\n\u001b[1;37m         ^\u001b[0m\n\u001b[1;31mSyntaxError\u001b[0m\u001b[1;31m:\u001b[0m invalid syntax\n"
     ]
    }
   ],
   "source": [
    "note connecting to kernel e1 it seems that frozen modules are being used which may please pass xfrozen modules are being used which kmay debugguer miss breakpoint set pydev disable files validation off disable this validatino connecting \n",
    "to the kernel land connect the part saving file  at the juyter and ml unitilees\n",
    "to have the servver api working and work to be done the work must be full proof and the attentino span should be bigger \n",
    "so there should be no use of the frozen module and which debugger warning could not be \n",
    "determine skipped non installed server bash age server jedi dockerfile language server file\n",
    "validation please pass xfrozen modules off to python will proced set pydev disable file validation \n",
    "skipped non df please pass the frozen module and are being used for the validation purposte \n"
   ]
  },
  {
   "cell_type": "code",
   "execution_count": 3,
   "id": "4220c990-8c90-4689-911b-9a814f51595a",
   "metadata": {},
   "outputs": [
    {
     "ename": "SyntaxError",
     "evalue": "invalid syntax (3037804762.py, line 1)",
     "output_type": "error",
     "traceback": [
      "\u001b[1;36m  Cell \u001b[1;32mIn[3], line 1\u001b[1;36m\u001b[0m\n\u001b[1;33m    passsing the module and the saving file at juypter ml and the untilted q and saving the server app\u001b[0m\n\u001b[1;37m             ^\u001b[0m\n\u001b[1;31mSyntaxError\u001b[0m\u001b[1;31m:\u001b[0m invalid syntax\n"
     ]
    }
   ],
   "source": [
    "passsing the module and the saving file at juypter ml and the untilted q and saving the server app\n",
    "kernel get started what "
   ]
  },
  {
   "cell_type": "code",
   "execution_count": 4,
   "id": "fd0b7a19-e6f6-485d-9037-999b815c973d",
   "metadata": {},
   "outputs": [
    {
     "ename": "SyntaxError",
     "evalue": "invalid syntax (1274517677.py, line 1)",
     "output_type": "error",
     "traceback": [
      "\u001b[1;36m  Cell \u001b[1;32mIn[4], line 1\u001b[1;36m\u001b[0m\n\u001b[1;33m    what i know about the machine learning model are theat there are multiple machine\u001b[0m\n\u001b[1;37m         ^\u001b[0m\n\u001b[1;31mSyntaxError\u001b[0m\u001b[1;31m:\u001b[0m invalid syntax\n"
     ]
    }
   ],
   "source": [
    "what i know about the machine learning model are theat there are multiple machine \n",
    "learning model like statistical model the machine learning model and deep learning model the\n",
    "the hybrid and ensembled model the statistical model consist tof the part like arima the s\n",
    "sarima and ths svm which is support vector machine whiile the arima is auto regression intefratted \n",
    "machine learning algorithm \n",
    "and the s is for the seasonal \n",
    "mahine laering model are the linear regression, logistic regression the lstm and gru and othr are the part of th\n",
    "the deep learing model and while the other are the treansformer based tmodel like arima dnd hthe \n",
    "gru along with the xgboost thats all i know about macihine learing \n"
   ]
  },
  {
   "cell_type": "code",
   "execution_count": null,
   "id": "79c09df9-44ae-4d83-ad8b-171c57ffc892",
   "metadata": {},
   "outputs": [],
   "source": [
    "miss breakpoint are hte connecting frozen modules and disable file "
   ]
  }
 ],
 "metadata": {
  "kernelspec": {
   "display_name": "Python 3 (ipykernel)",
   "language": "python",
   "name": "python3"
  },
  "language_info": {
   "codemirror_mode": {
    "name": "ipython",
    "version": 3
   },
   "file_extension": ".py",
   "mimetype": "text/x-python",
   "name": "python",
   "nbconvert_exporter": "python",
   "pygments_lexer": "ipython3",
   "version": "3.11.7"
  }
 },
 "nbformat": 4,
 "nbformat_minor": 5
}
